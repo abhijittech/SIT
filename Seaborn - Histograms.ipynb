{
 "cells": [
  {
   "cell_type": "code",
   "execution_count": 1,
   "metadata": {
    "collapsed": true
   },
   "outputs": [],
   "source": [
    "import numpy as np\n",
    "import pandas as pd\n",
    "from numpy.random import randn\n",
    "\n",
    "# Libraries require for plotting\n",
    "import matplotlib as mpl\n",
    "import matplotlib.pyplot as plt\n",
    "import seaborn as sns\n",
    "\n",
    "# Command to view inline graphs\n",
    "%matplotlib inline"
   ]
  },
  {
   "cell_type": "code",
   "execution_count": 2,
   "metadata": {
    "collapsed": true
   },
   "outputs": [],
   "source": [
    "# Create a random dataset\n",
    "dataset1 = randn(100)"
   ]
  },
  {
   "cell_type": "code",
   "execution_count": 3,
   "metadata": {},
   "outputs": [
    {
     "data": {
      "text/plain": [
       "array([ 0.3246823 , -1.18540756, -0.89404236, -0.5784806 , -0.36653265,\n",
       "       -0.05436867, -1.01341531,  0.50442932, -1.24635825, -0.75203845,\n",
       "       -0.43319303,  1.19388351,  0.09544414, -1.19402442, -0.52831817,\n",
       "        0.6493975 ,  2.25689282,  1.37815879, -0.58746823,  0.06879074,\n",
       "       -0.96954921,  0.48630345, -0.36583647, -0.58095294, -1.53849652,\n",
       "       -1.57643063,  0.46866845,  0.01954258,  1.58392823, -0.74177366,\n",
       "        0.87846767, -0.56599984,  1.50611034, -0.74076587,  0.92967598,\n",
       "       -0.78594746,  1.59019229,  0.26200578, -1.92206895,  0.81136626,\n",
       "        0.17015589,  0.63895845,  0.79770735, -0.40553796,  0.41237587,\n",
       "       -0.78035702, -0.32730026, -0.7048069 ,  1.33306422,  0.9137013 ,\n",
       "        1.74710337,  1.20996387,  0.2075717 ,  0.70756861,  0.13325738,\n",
       "       -0.93905084,  0.98065239, -2.83403237,  0.27447605, -0.88421587,\n",
       "       -1.3909967 , -0.24932096, -0.44300749, -0.98119238, -1.23668704,\n",
       "       -0.75101315, -0.04335927, -1.39855782,  0.59802545,  0.39914639,\n",
       "        0.06418926, -1.50673457,  0.36797558,  0.42089978, -1.03953845,\n",
       "        0.76862343, -1.54758796, -0.04783695,  0.42563032, -0.44409603,\n",
       "       -1.96651476,  0.63228147,  0.30525859, -0.20423907, -1.77392391,\n",
       "        0.54015853,  1.510362  , -0.89287667, -0.86427066, -0.41191624,\n",
       "        0.2451768 , -1.49263541, -0.06349765,  0.69417519,  0.84856526,\n",
       "        0.35704769, -1.31414983, -1.47676191,  0.9974718 , -1.02320238])"
      ]
     },
     "execution_count": 3,
     "metadata": {},
     "output_type": "execute_result"
    }
   ],
   "source": [
    "dataset1"
   ]
  },
  {
   "cell_type": "code",
   "execution_count": 4,
   "metadata": {},
   "outputs": [
    {
     "data": {
      "text/plain": [
       "(array([  1.,   2.,  10.,  14.,  20.,  13.,  21.,  11.,   7.,   1.]),\n",
       " array([-2.83403237, -2.32493985, -1.81584733, -1.30675481, -0.79766229,\n",
       "        -0.28856977,  0.22052275,  0.72961527,  1.23870779,  1.74780031,\n",
       "         2.25689282]),\n",
       " <a list of 10 Patch objects>)"
      ]
     },
     "execution_count": 4,
     "metadata": {},
     "output_type": "execute_result"
    },
    {
     "data": {
      "image/png": "[encoded data removed]",
      "text/plain": [
       "<matplotlib.figure.Figure at 0xbca7ac8>"
      ]
     },
     "metadata": {},
     "output_type": "display_data"
    }
   ],
   "source": [
    "plt.hist(dataset1)"
   ]
  },
  {
   "cell_type": "code",
   "execution_count": 5,
   "metadata": {},
   "outputs": [
    {
     "data": {
      "text/plain": [
       "(array([  2.,   2.,   5.,   8.,  15.,  11.,  17.,   8.,   8.,   4.]),\n",
       " array([-2.61409745, -2.14438687, -1.67467629, -1.20496572, -0.73525514,\n",
       "        -0.26554456,  0.20416602,  0.6738766 ,  1.14358718,  1.61329776,\n",
       "         2.08300834]),\n",
       " <a list of 10 Patch objects>)"
      ]
     },
     "execution_count": 5,
     "metadata": {},
     "output_type": "execute_result"
    },
    {
     "data": {
      "image/png": "[encoded data removed]",
      "text/plain": [
       "<matplotlib.figure.Figure at 0xbca7908>"
      ]
     },
     "metadata": {},
     "output_type": "display_data"
    }
   ],
   "source": [
    "dataset2 = randn(80)\n",
    "#Plot\n",
    "plt.hist(dataset2, color='indianred')"
   ]
  },
  {
   "cell_type": "code",
   "execution_count": 6,
   "metadata": {},
   "outputs": [
    {
     "data": {
      "text/plain": [
       "(array([  1.,   1.,   1.,   1.,   2.,   3.,   6.,   2.,   9.,   6.,   6.,\n",
       "          5.,  11.,   6.,   5.,   3.,   2.,   6.,   3.,   1.]),\n",
       " array([-2.61409745, -2.37924216, -2.14438687, -1.90953158, -1.67467629,\n",
       "        -1.439821  , -1.20496572, -0.97011043, -0.73525514, -0.50039985,\n",
       "        -0.26554456, -0.03068927,  0.20416602,  0.43902131,  0.6738766 ,\n",
       "         0.90873189,  1.14358718,  1.37844247,  1.61329776,  1.84815305,\n",
       "         2.08300834]),\n",
       " <a list of 20 Patch objects>)"
      ]
     },
     "execution_count": 6,
     "metadata": {},
     "output_type": "execute_result"
    },
    {
     "data": {
      "image/png": "[encoded data removed]",
      "text/plain": [
       "<matplotlib.figure.Figure at 0xc105438>"
      ]
     },
     "metadata": {},
     "output_type": "display_data"
    }
   ],
   "source": [
    "plt.hist(dataset1,color='indianred', alpha=0.5, bins=20)\n",
    "plt.hist(dataset2,alpha=0.5,bins=20)"
   ]
  },
  {
   "cell_type": "code",
   "execution_count": 10,
   "metadata": {},
   "outputs": [
    {
     "data": {
      "text/plain": [
       "<seaborn.axisgrid.JointGrid at 0xe1feac8>"
      ]
     },
     "execution_count": 10,
     "metadata": {},
     "output_type": "execute_result"
    },
    {
     "data": {
      "image/png": "[encoded data removed]",
      "text/plain": [
       "<matplotlib.figure.Figure at 0xe1fe7f0>"
      ]
     },
     "metadata": {},
     "output_type": "display_data"
    }
   ],
   "source": [
    "data1 = randn(100)\n",
    "data2 = randn(100)\n",
    "\n",
    "sns.jointplot(data1,data2,color='indianred')"
   ]
  },
  {
   "cell_type": "code",
   "execution_count": null,
   "metadata": {
    "collapsed": true
   },
   "outputs": [],
   "source": []
  },
  {
   "cell_type": "code",
   "execution_count": null,
   "metadata": {
    "collapsed": true
   },
   "outputs": [],
   "source": []
  },
  {
   "cell_type": "code",
   "execution_count": null,
   "metadata": {
    "collapsed": true
   },
   "outputs": [],
   "source": []
  },
  {
   "cell_type": "code",
   "execution_count": null,
   "metadata": {
    "collapsed": true
   },
   "outputs": [],
   "source": []
  }
 ],
 "metadata": {
  "kernelspec": {
   "display_name": "Python 2",
   "language": "python",
   "name": "python2"
  },
  "language_info": {
   "codemirror_mode": {
    "name": "ipython",
    "version": 2
   },
   "file_extension": ".py",
   "mimetype": "text/x-python",
   "name": "python",
   "nbconvert_exporter": "python",
   "pygments_lexer": "ipython2",
   "version": "2.7.13"
  }
 },
 "nbformat": 4,
 "nbformat_minor": 2
}
